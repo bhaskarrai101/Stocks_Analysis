{
  "cells": [
    {
      "cell_type": "markdown",
      "source": [
        "**1. Mount the Drive for data storage.**"
      ],
      "metadata": {
        "id": "XZpZbixUZrR3"
      },
      "id": "XZpZbixUZrR3"
    },
    {
      "cell_type": "code",
      "source": [
        "from google.colab import drive\n",
        "drive.mount('/content/drive')"
      ],
      "metadata": {
        "colab": {
          "base_uri": "https://localhost:8080/"
        },
        "id": "zF4vxrin0w2L",
        "outputId": "e5331bb2-a9fe-4f9e-c6c5-ed830629ad35"
      },
      "id": "zF4vxrin0w2L",
      "execution_count": 1,
      "outputs": [
        {
          "output_type": "stream",
          "name": "stdout",
          "text": [
            "Mounted at /content/drive\n"
          ]
        }
      ]
    },
    {
      "cell_type": "markdown",
      "source": [
        "**2. Import the Libraries**"
      ],
      "metadata": {
        "id": "doDhTPoKZ3sN"
      },
      "id": "doDhTPoKZ3sN"
    },
    {
      "cell_type": "code",
      "source": [
        "import json\n",
        "import requests\n",
        "import numpy as np\n",
        "import pandas as pd\n",
        "from bs4 import BeautifulSoup"
      ],
      "metadata": {
        "id": "mliOrB1f0sHE"
      },
      "id": "mliOrB1f0sHE",
      "execution_count": 2,
      "outputs": []
    },
    {
      "cell_type": "markdown",
      "source": [
        "**3. Define Your stocks Here**"
      ],
      "metadata": {
        "id": "9KTctkpHaQKv"
      },
      "id": "9KTctkpHaQKv"
    },
    {
      "cell_type": "code",
      "execution_count": null,
      "id": "abe3e87a",
      "metadata": {
        "id": "abe3e87a"
      },
      "outputs": [],
      "source": [
        "stock = ['DIVISLAB','HAL']"
      ]
    },
    {
      "cell_type": "markdown",
      "source": [
        "**4. Create a function which fetch data from NSE website**"
      ],
      "metadata": {
        "id": "qQPF0NWOaXgB"
      },
      "id": "qQPF0NWOaXgB"
    },
    {
      "cell_type": "code",
      "execution_count": null,
      "id": "61913f3c",
      "metadata": {
        "id": "61913f3c"
      },
      "outputs": [],
      "source": [
        "def stock_analysis(stocks):\n",
        "    stock_name=[]\n",
        "    stock_closePrice=[]\n",
        "    trade_date=[]\n",
        "    stock_lastPrice=[]\n",
        "    for i in stocks:\n",
        "        print(i)\n",
        "        # Using request Lib to fetch data from the website\n",
        "        stock_url  = 'https://www.nseindia.com/live_market/dynaContent/live_watch/get_quote/GetQuote.jsp?symbol='+str(i)\n",
        "        headers = {'user-agent':'Mozilla/5.0 (Windows NT 10.0; Win64; x64) AppleWebKit/537.36 (KHTML, like Gecko) Chrome/79.0.3945.117 Safari/537.36'}\n",
        "        response = requests.get(stock_url, headers=headers)\n",
        "        # If we get the expected respone\n",
        "        if str(response) == '<Response [200]>': #if response.status_code == 200:\n",
        "            soup = BeautifulSoup(response.text, 'html.parser') # For html parse use Butifulsoup\n",
        "            data_array = soup.find(id='responseDiv').getText()\n",
        "            jsonStr = json.loads(data_array) # Converted the test data into JSON form using json.loads\n",
        "            #fetching Required data from the JSON \n",
        "            date=jsonStr['tradedDate']\n",
        "            trade_date.append(date)\n",
        "            name = jsonStr['data'][0]['symbol']\n",
        "            stock_name.append(name)\n",
        "            close_p = jsonStr['data'][0]['closePrice']\n",
        "            stock_closePrice.append(close_p)\n",
        "            last_p = jsonStr['data'][0]['lastPrice']\n",
        "            stock_lastPrice.append(last_p)\n",
        "        else:\n",
        "            print(\"Error : Requst cannot be completed!\")\n",
        "    # Now Creating a DataFrame for the given stocks where rows = stocks name and Cloumns = Dates\n",
        "    stock_data = pd.DataFrame(\n",
        "    {'stock_name': stock_name,\n",
        "     str(date): stock_closePrice,\n",
        "    })\n",
        "    return stock_data,date"
      ]
    },
    {
      "cell_type": "markdown",
      "source": [
        "**5. Creating a temprory variable to store stocks data and Date**"
      ],
      "metadata": {
        "id": "enZX6zIqb2al"
      },
      "id": "enZX6zIqb2al"
    },
    {
      "cell_type": "code",
      "execution_count": null,
      "id": "689367b8",
      "metadata": {
        "id": "689367b8"
      },
      "outputs": [],
      "source": [
        "temp,date=stock_analysis(stock)"
      ]
    },
    {
      "cell_type": "markdown",
      "source": [
        "**6. Cleaning the data and type casting it to float**"
      ],
      "metadata": {
        "id": "zD5ExRLgcCio"
      },
      "id": "zD5ExRLgcCio"
    },
    {
      "cell_type": "code",
      "execution_count": null,
      "id": "16543f0c",
      "metadata": {
        "id": "16543f0c"
      },
      "outputs": [],
      "source": [
        "temp[date] = temp[date].str.replace(\",\", \"\")\n",
        "temp[date] = temp[date].astype(float)"
      ]
    },
    {
      "cell_type": "markdown",
      "source": [
        "If you are runing it for the first time then you need to run the commented line to store the temp data to the drive."
      ],
      "metadata": {
        "id": "rBvSYMHBcU-R"
      },
      "id": "rBvSYMHBcU-R"
    },
    {
      "cell_type": "code",
      "execution_count": null,
      "id": "00813fa3",
      "metadata": {
        "id": "00813fa3"
      },
      "outputs": [],
      "source": [
        "#temp.to_csv('file1.csv')\n",
        "temp"
      ]
    },
    {
      "cell_type": "markdown",
      "source": [
        "**7. Reading data from the drive**"
      ],
      "metadata": {
        "id": "s0k-ALbPdPfe"
      },
      "id": "s0k-ALbPdPfe"
    },
    {
      "cell_type": "code",
      "execution_count": null,
      "id": "47a26d48",
      "metadata": {
        "id": "47a26d48"
      },
      "outputs": [],
      "source": [
        "sd = pd.read_csv('/content/drive/MyDrive/Colab Notebooks/stocks/file1.csv', index_col=[0])\n",
        "sd"
      ]
    },
    {
      "cell_type": "code",
      "execution_count": null,
      "id": "08666f9a",
      "metadata": {
        "id": "08666f9a"
      },
      "outputs": [],
      "source": [
        "sd.info()"
      ]
    },
    {
      "cell_type": "markdown",
      "source": [
        "**8. Joining two dataframes with concat**"
      ],
      "metadata": {
        "id": "DnchsNlOdfOW"
      },
      "id": "DnchsNlOdfOW"
    },
    {
      "cell_type": "code",
      "execution_count": null,
      "id": "9128b7b5",
      "metadata": {
        "id": "9128b7b5"
      },
      "outputs": [],
      "source": [
        "vertical_concat = pd.concat([sd, temp[date]], axis=1)\n",
        "vertical_concat"
      ]
    },
    {
      "cell_type": "markdown",
      "source": [
        "**9. Saving data as csv file in the drive**"
      ],
      "metadata": {
        "id": "XcMnSPcPdxNT"
      },
      "id": "XcMnSPcPdxNT"
    },
    {
      "cell_type": "code",
      "execution_count": null,
      "id": "3b72b2df",
      "metadata": {
        "id": "3b72b2df"
      },
      "outputs": [],
      "source": [
        "vertical_concat.to_csv('/content/drive/MyDrive/Colab Notebooks/stocks/file1.csv')"
      ]
    },
    {
      "cell_type": "markdown",
      "source": [
        "**10. Reading data from the drive to perform EDA**"
      ],
      "metadata": {
        "id": "V5tt2Du2d-GL"
      },
      "id": "V5tt2Du2d-GL"
    },
    {
      "cell_type": "code",
      "execution_count": 3,
      "id": "850cad8d",
      "metadata": {
        "id": "850cad8d"
      },
      "outputs": [],
      "source": [
        "sd = pd.read_csv('/content/drive/MyDrive/Colab Notebooks/stocks/file1.csv', index_col=[0])"
      ]
    },
    {
      "cell_type": "code",
      "execution_count": null,
      "id": "c9d61fbd",
      "metadata": {
        "id": "c9d61fbd"
      },
      "outputs": [],
      "source": [
        "df = sd.copy()\n",
        "df"
      ]
    },
    {
      "cell_type": "markdown",
      "source": [
        "**11. Importing Matplotlib library**"
      ],
      "metadata": {
        "id": "YV3CbAl0eMGd"
      },
      "id": "YV3CbAl0eMGd"
    },
    {
      "cell_type": "code",
      "source": [
        "import matplotlib.pyplot as plt"
      ],
      "metadata": {
        "id": "SxXMs_8g7G6m"
      },
      "id": "SxXMs_8g7G6m",
      "execution_count": 5,
      "outputs": []
    },
    {
      "cell_type": "markdown",
      "source": [
        "**12. Creating new column for total profit/loss**"
      ],
      "metadata": {
        "id": "iuqB86IPec_-"
      },
      "id": "iuqB86IPec_-"
    },
    {
      "cell_type": "code",
      "source": [
        "df['TP/TL']= df[df.columns[-1]] - df[df.columns[1]]\n",
        "df"
      ],
      "metadata": {
        "id": "oMeH4N4k_Sa-"
      },
      "id": "oMeH4N4k_Sa-",
      "execution_count": null,
      "outputs": []
    },
    {
      "cell_type": "markdown",
      "source": [
        "**13. Analysing data with graph** "
      ],
      "metadata": {
        "id": "nl4swZPDeqK_"
      },
      "id": "nl4swZPDeqK_"
    },
    {
      "cell_type": "code",
      "source": [
        "plt.style.use('ggplot')\n",
        "fig = plt.figure(figsize=(6,4))\n",
        "# make data\n",
        "#np.random.seed(3)\n",
        "x = df['stock_name'][:2]\n",
        "y = df['TP/TL'][:2]\n",
        "\n",
        "plt.stem(x, y)\n",
        "plt.xticks(rotation=65)\n",
        "plt.show()"
      ],
      "metadata": {
        "id": "kRuDLaZvMeo8",
        "outputId": "d5888698-61b9-4a2c-a51c-0d509f5280b2",
        "colab": {
          "base_uri": "https://localhost:8080/",
          "height": 356
        }
      },
      "id": "kRuDLaZvMeo8",
      "execution_count": 8,
      "outputs": [
        {
          "output_type": "stream",
          "name": "stderr",
          "text": [
            "/usr/local/lib/python3.7/dist-packages/ipykernel_launcher.py:8: UserWarning: In Matplotlib 3.3 individual lines on a stem plot will be added as a LineCollection instead of individual lines. This significantly improves the performance of a stem plot. To remove this warning and switch to the new behaviour, set the \"use_line_collection\" keyword argument to True.\n",
            "  \n"
          ]
        },
        {
          "output_type": "display_data",
          "data": {
            "text/plain": [
              "<Figure size 432x288 with 1 Axes>"
            ],
            "image/png": "[encoded data removed]"
          },
          "metadata": {}
        }
      ]
    },
    {
      "cell_type": "code",
      "source": [
        "plt.style.use('ggplot')\n",
        "fig = plt.figure(figsize=(24,8))\n",
        "x = df['stock_name'][:2]\n",
        "y = df['TP/TL'][:2]\n",
        "plt.subplot(1, 2, 1)\n",
        "#plt.plot(x, y)\n",
        "plt.stem(x, y)\n",
        "plt.xticks(rotation=65)\n",
        "x = df['stock_name'][:2]\n",
        "y = df[df.columns[-2]][:2]\n",
        "plt.subplot(1, 2, 2)\n",
        "#plt.plot(x, y)\n",
        "plt.stem(x, y)\n",
        "plt.xticks(rotation=65)\n",
        "plt.show()"
      ],
      "metadata": {
        "colab": {
          "base_uri": "https://localhost:8080/",
          "height": 608
        },
        "id": "Dyam-azaG2ye",
        "outputId": "69900156-7b71-4ea8-a4e0-9beba76464c2"
      },
      "id": "Dyam-azaG2ye",
      "execution_count": 11,
      "outputs": [
        {
          "output_type": "stream",
          "name": "stderr",
          "text": [
            "/usr/local/lib/python3.7/dist-packages/ipykernel_launcher.py:7: UserWarning: In Matplotlib 3.3 individual lines on a stem plot will be added as a LineCollection instead of individual lines. This significantly improves the performance of a stem plot. To remove this warning and switch to the new behaviour, set the \"use_line_collection\" keyword argument to True.\n",
            "  import sys\n",
            "/usr/local/lib/python3.7/dist-packages/ipykernel_launcher.py:13: UserWarning: In Matplotlib 3.3 individual lines on a stem plot will be added as a LineCollection instead of individual lines. This significantly improves the performance of a stem plot. To remove this warning and switch to the new behaviour, set the \"use_line_collection\" keyword argument to True.\n",
            "  del sys.path[0]\n"
          ]
        },
        {
          "output_type": "display_data",
          "data": {
            "text/plain": [
              "<Figure size 1728x576 with 2 Axes>"
            ],
            "image/png": "[encoded data removed]"
          },
          "metadata": {}
        }
      ]
    },
    {
      "cell_type": "code",
      "source": [
        "x=[]\n",
        "y=[]\n",
        "xl=[]\n",
        "yl=[]\n",
        "for i in range(0,2):\n",
        "  if df['TP/TL'][i]>0:\n",
        "    x.append(df['stock_name'][i])\n",
        "    y.append(df['TP/TL'][i])\n",
        "  else:\n",
        "    xl.append(df['stock_name'][i])\n",
        "    yl.append(df['TP/TL'][i])"
      ],
      "metadata": {
        "id": "H8_BvtLGFuCa"
      },
      "id": "H8_BvtLGFuCa",
      "execution_count": 13,
      "outputs": []
    },
    {
      "cell_type": "code",
      "source": [
        "plt.style.use('ggplot')\n",
        "fig = plt.figure(figsize=(24,8))\n",
        "plt.subplot(1, 2, 1)\n",
        "#plt.plot(x, y)\n",
        "plt.stem(x, y)\n",
        "plt.stem(xl, yl)\n",
        "plt.xticks(rotation=65)"
      ],
      "metadata": {
        "colab": {
          "base_uri": "https://localhost:8080/",
          "height": 626
        },
        "id": "ZrcTQ2FeqYrI",
        "outputId": "c16d5fab-6633-4734-9bca-9d17314d43ca"
      },
      "id": "ZrcTQ2FeqYrI",
      "execution_count": 14,
      "outputs": [
        {
          "output_type": "stream",
          "name": "stderr",
          "text": [
            "/usr/local/lib/python3.7/dist-packages/ipykernel_launcher.py:5: UserWarning: In Matplotlib 3.3 individual lines on a stem plot will be added as a LineCollection instead of individual lines. This significantly improves the performance of a stem plot. To remove this warning and switch to the new behaviour, set the \"use_line_collection\" keyword argument to True.\n",
            "  \"\"\"\n",
            "/usr/local/lib/python3.7/dist-packages/ipykernel_launcher.py:6: UserWarning: In Matplotlib 3.3 individual lines on a stem plot will be added as a LineCollection instead of individual lines. This significantly improves the performance of a stem plot. To remove this warning and switch to the new behaviour, set the \"use_line_collection\" keyword argument to True.\n",
            "  \n"
          ]
        },
        {
          "output_type": "execute_result",
          "data": {
            "text/plain": [
              "([0, 1], <a list of 2 Text major ticklabel objects>)"
            ]
          },
          "metadata": {},
          "execution_count": 14
        },
        {
          "output_type": "display_data",
          "data": {
            "text/plain": [
              "<Figure size 1728x576 with 1 Axes>"
            ],
            "image/png": "[encoded data removed]"
          },
          "metadata": {}
        }
      ]
    },
    {
      "cell_type": "code",
      "source": [
        "plt.style.use('ggplot')\n",
        "fig = plt.figure(figsize=(24,8))\n",
        "plt.subplot(1, 2, 1)\n",
        "#plt.plot(x, y)\n",
        "plt.bar(x, y, color = \"g\")\n",
        "plt.bar(xl, yl, color = \"r\")\n",
        "plt.xticks(rotation=65)"
      ],
      "metadata": {
        "colab": {
          "base_uri": "https://localhost:8080/",
          "height": 536
        },
        "id": "zaLWEJuiqvDL",
        "outputId": "5ca9451a-1d7d-4ce6-bed0-0658ccb580b4"
      },
      "id": "zaLWEJuiqvDL",
      "execution_count": 15,
      "outputs": [
        {
          "output_type": "execute_result",
          "data": {
            "text/plain": [
              "([0, 1], <a list of 2 Text major ticklabel objects>)"
            ]
          },
          "metadata": {},
          "execution_count": 15
        },
        {
          "output_type": "display_data",
          "data": {
            "text/plain": [
              "<Figure size 1728x576 with 1 Axes>"
            ],
            "image/png": "[encoded data removed]"
          },
          "metadata": {}
        }
      ]
    },
    {
      "cell_type": "code",
      "source": [],
      "metadata": {
        "id": "nOzwymWgsrou"
      },
      "id": "nOzwymWgsrou",
      "execution_count": null,
      "outputs": []
    }
  ],
  "metadata": {
    "kernelspec": {
      "display_name": "Python 3 (ipykernel)",
      "language": "python",
      "name": "python3"
    },
    "language_info": {
      "codemirror_mode": {
        "name": "ipython",
        "version": 3
      },
      "file_extension": ".py",
      "mimetype": "text/x-python",
      "name": "python",
      "nbconvert_exporter": "python",
      "pygments_lexer": "ipython3",
      "version": "3.9.7"
    },
    "colab": {
      "provenance": [],
      "collapsed_sections": []
    }
  },
  "nbformat": 4,
  "nbformat_minor": 5
}